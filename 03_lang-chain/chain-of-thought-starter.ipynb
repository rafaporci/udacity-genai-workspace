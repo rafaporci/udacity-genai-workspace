{
 "cells": [
  {
   "cell_type": "markdown",
   "metadata": {},
   "source": [
    "Let's see if we can solve a simple math problem with gpt-3.5"
   ]
  },
  {
   "cell_type": "code",
   "execution_count": 3,
   "metadata": {},
   "outputs": [
    {
     "name": "stdout",
     "output_type": "stream",
     "text": [
      "voc-748426759126677430476768a3a5ba5b26b3.93141672\n"
     ]
    }
   ],
   "source": [
    "# Add prereq code to set open API key\n",
    "# Load environment variables from a .env file\n",
    "from dotenv import load_dotenv\n",
    "load_dotenv()\n",
    "\n",
    "import os\n",
    "os.environ[\"OPENAI_API_KEY\"] = os.environ.get('API_KEY')\n",
    "os.environ[\"OPENAI_API_BASE\"] = \"https://openai.vocareum.com/v1\"\n",
    "\n",
    "print(os.environ[\"OPENAI_API_KEY\"] )"
   ]
  },
  {
   "cell_type": "code",
   "execution_count": 7,
   "metadata": {},
   "outputs": [
    {
     "name": "stdout",
     "output_type": "stream",
     "text": [
      "content='First, we need to find out how many tomatoes Andy harvested in total:\\n18 plants * 7 tomatoes per plant = 126 tomatoes\\n\\nNext, we need to find out how many tomatoes Andy dried:\\n126 tomatoes / 2 = 63 tomatoes dried\\n\\nNow, we need to find out how many tomatoes are left after drying:\\n126 tomatoes - 63 tomatoes = 63 tomatoes remaining\\n\\nNext, we need to find out how many tomatoes Andy turned into marinara sauce:\\n63 tomatoes / 3 = 21 tomatoes turned into marinara sauce\\n\\nFinally, we need to find out how many tomatoes are left after making marinara sauce:\\n63 tomatoes - 21 tomatoes = 42 tomatoes left\\n\\nTherefore, Andy is left with 42 tomatoes after drying half of them and turning a third of the remainder into marinara sauce.' additional_kwargs={} response_metadata={'token_usage': {'completion_tokens': 167, 'prompt_tokens': 52, 'total_tokens': 219, 'completion_tokens_details': {'accepted_prediction_tokens': 0, 'audio_tokens': 0, 'reasoning_tokens': 0, 'rejected_prediction_tokens': 0}, 'prompt_tokens_details': {'audio_tokens': 0, 'cached_tokens': 0}}, 'model_name': 'gpt-3.5-turbo', 'system_fingerprint': None, 'finish_reason': 'stop', 'logprobs': None} id='run--0ec76544-68a3-4969-8828-a8b321d14b21-0'\n"
     ]
    }
   ],
   "source": [
    "from langchain_community.chat_models import ChatOpenAI\n",
    "from langchain.prompts import PromptTemplate\n",
    "from langchain.prompts.few_shot import FewShotPromptTemplate\n",
    "\n",
    "model_name = \"gpt-3.5-turbo\"\n",
    "temperature = 0.0\n",
    "llm = ChatOpenAI(model_name=model_name, temperature=temperature, max_tokens = 500)\n",
    "\n",
    "# Note: example taken from\n",
    "# https://browse.arxiv.org/pdf/2303.12712.pdf\n",
    "\n",
    "instruction = \"\"\"\n",
    "Andy harvests all the tomatoes from 18 plants that have 7 tomatoes each. If he dries half the\n",
    "tomatoes and turns a third of the remainder into marinara sauce, how many tomatoes are left?\n",
    "\"\"\"\n",
    "\n",
    "messages = [\n",
    "    (\"human\", instruction),\n",
    "]\n",
    "print(llm.invoke(messages))"
   ]
  },
  {
   "cell_type": "markdown",
   "metadata": {},
   "source": [
    "If we run this, we see an incorrect answer:\n",
    "Original Answer: \n",
    "Andy harvests a total of 18 plants * 7 tomatoes/plant = <<18*7=126>>126 tomatoes.\n",
    "He dries half of the tomatoes, so he has 126 tomatoes / 2 = <<126/2=63>>63 tomatoes left.\n",
    "He turns a third of the remaining tomatoes into marinara sauce, so he has 63 tomatoes * 1/3 = <<63*1/3=21>>21 tomatoes left. Answer: \\boxed{21}.\n",
    "\n",
    "In reality, Andy will have 63 - 21 = 42 tomatoes left\n",
    "\n",
    "Let's see how we can fix this with Chain Of Thought Reasoning"
   ]
  },
  {
   "cell_type": "markdown",
   "metadata": {},
   "source": [
    "First, let's setup a examples of how we want LLM to think about the problem"
   ]
  },
  {
   "cell_type": "code",
   "execution_count": 9,
   "metadata": {},
   "outputs": [],
   "source": [
    "\n",
    "question1 = \"\"\"\n",
    "Karen harvests all the pears from 20 trees that have 10 pears each. She  throws a third of them away as they are rotten,\n",
    "and turns a quarter of the remaining ones into jam. How many are left?\n",
    "\"\"\"\n",
    "answer1 = \"\"\"\n",
    "    First, let's calculate how many pears Gloria harvests: it's 20 * 10 = 200. \n",
    "    Then, let's calculate how many are rotten: 200 * 1/3 = 66.\n",
    "    Thus, we know how many are left after she throws a third of them away: 200 - 66 = 134.\n",
    "    1/4 of the remaining ones are turned into jam, or 134 * 1/4 = 33. Therefore, Karen is left with 134 - 33, or 101 pears\n",
    "\"\"\"\n",
    "question2 = \"\"\"\n",
    "Sergei harvests all the strawberries from 50 plants that have 8 stawberries each. He freezes a quarter of them,\n",
    "and turns half of the remaining ones into jam. How many are left?\n",
    "\"\"\"\n",
    "answer2 = \"\"\"\n",
    "    First, let's calculate how many strawberries Sergei harvests: it's 50 * 8 = 400. \n",
    "    Then, let's calculate how many are frozen: 400 * 1/4 = 100.\n",
    "    Thus, we know how many are left after he freezes 100 of them: 400 - 100 = 300.\n",
    "    half of the remaining ones are turned into jam, or 300 * 1/2 = 150. Therefore, Sergei is left with 300 - 150, or 150 pears\n",
    "\"\"\""
   ]
  },
  {
   "cell_type": "markdown",
   "metadata": {},
   "source": [
    "Next, let's setup an prompt template for one question/answer pair, and put our examples into an array"
   ]
  },
  {
   "cell_type": "code",
   "execution_count": 19,
   "metadata": {},
   "outputs": [
    {
     "name": "stdout",
     "output_type": "stream",
     "text": [
      "=== Chain of Thought Prompt ===\n",
      "\n",
      "Karen harvests all the pears from 20 trees that have 10 pears each. She  throws a third of them away as they are rotten,\n",
      "and turns a quarter of the remaining ones into jam. How many are left?\n",
      "\n",
      "\n",
      "    First, let's calculate how many pears Gloria harvests: it's 20 * 10 = 200. \n",
      "    Then, let's calculate how many are rotten: 200 * 1/3 = 66.\n",
      "    Thus, we know how many are left after she throws a third of them away: 200 - 66 = 134.\n",
      "    1/4 of the remaining ones are turned into jam, or 134 * 1/4 = 33. Therefore, Karen is left with 134 - 33, or 101 pears\n",
      "\n",
      "\n",
      "\n",
      "Sergei harvests all the strawberries from 50 plants that have 8 stawberries each. He freezes a quarter of them,\n",
      "and turns half of the remaining ones into jam. How many are left?\n",
      "\n",
      "\n",
      "    First, let's calculate how many strawberries Sergei harvests: it's 50 * 8 = 400. \n",
      "    Then, let's calculate how many are frozen: 400 * 1/4 = 100.\n",
      "    Thus, we know how many are left after he freezes 100 of them: 400 - 100 = 300.\n",
      "    half of the remaining ones are turned into jam, or 300 * 1/2 = 150. Therefore, Sergei is left with 300 - 150, or 150 pears\n",
      "\n",
      "\n",
      "Use these questions and answers to give correct response to the problem below: \n",
      "Andy harvests all the tomatoes from 18 plants that have 7 tomatoes each. If he dries half the\n",
      "tomatoes and turns a third of the remainder into marinara sauce, how many tomatoes are left?\n",
      "\n"
     ]
    }
   ],
   "source": [
    "question1 = \"\"\"\n",
    "Karen harvests all the pears from 20 trees that have 10 pears each. She  throws a third of them away as they are rotten,\n",
    "and turns a quarter of the remaining ones into jam. How many are left?\n",
    "\"\"\"\n",
    "answer1 = \"\"\"\n",
    "    First, let's calculate how many pears Gloria harvests: it's 20 * 10 = 200. \n",
    "    Then, let's calculate how many are rotten: 200 * 1/3 = 66.\n",
    "    Thus, we know how many are left after she throws a third of them away: 200 - 66 = 134.\n",
    "    1/4 of the remaining ones are turned into jam, or 134 * 1/4 = 33. Therefore, Karen is left with 134 - 33, or 101 pears\n",
    "\"\"\"\n",
    "question2 = \"\"\"\n",
    "Sergei harvests all the strawberries from 50 plants that have 8 stawberries each. He freezes a quarter of them,\n",
    "and turns half of the remaining ones into jam. How many are left?\n",
    "\"\"\"\n",
    "answer2 = \"\"\"\n",
    "    First, let's calculate how many strawberries Sergei harvests: it's 50 * 8 = 400. \n",
    "    Then, let's calculate how many are frozen: 400 * 1/4 = 100.\n",
    "    Thus, we know how many are left after he freezes 100 of them: 400 - 100 = 300.\n",
    "    half of the remaining ones are turned into jam, or 300 * 1/2 = 150. Therefore, Sergei is left with 300 - 150, or 150 pears\n",
    "\"\"\"\n",
    "\n",
    "\n",
    "example_prompt = PromptTemplate(input_variables=[\"question\", \"answer\"], \n",
    "                                template=\"{question}\\n{answer}\")\n",
    "examples = [ \n",
    "    {\n",
    "        \"question\": question1,\n",
    "        \"answer\": answer1,\n",
    "    },\n",
    "    {\n",
    "        \"question\": question2,\n",
    "        \"answer\": answer2,\n",
    "    }\n",
    "]\n",
    "\n",
    "cot_prompt = FewShotPromptTemplate(\n",
    "    examples=examples, \n",
    "    example_prompt=example_prompt, \n",
    "    suffix=\"Use these questions and answers to give correct response to the problem below: {input}\", \n",
    "    input_variables=[\"input\"]\n",
    ")\n",
    "\n",
    "cot_text = cot_prompt.format(input=instruction)\n",
    "print(\"=== Chain of Thought Prompt ===\")\n",
    "print(cot_text)"
   ]
  },
  {
   "cell_type": "markdown",
   "metadata": {},
   "source": [
    "Next, let's setup the FewShotPromptTemplate"
   ]
  },
  {
   "cell_type": "markdown",
   "metadata": {},
   "source": [
    "Finally, let's use the same instruction as before and see if we get a different answer"
   ]
  },
  {
   "cell_type": "code",
   "execution_count": 20,
   "metadata": {},
   "outputs": [
    {
     "name": "stdout",
     "output_type": "stream",
     "text": [
      "=== Chain of Thought Answer ===\n",
      "content=\"First, let's calculate how many tomatoes Andy harvests: it's 18 * 7 = 126.\\nThen, let's calculate how many are dried: 126 * 1/2 = 63.\\nThus, we know how many are left after he dries half of them: 126 - 63 = 63.\\nA third of the remaining ones are turned into marinara sauce, or 63 * 1/3 = 21. Therefore, Andy is left with 63 - 21, or 42 tomatoes.\" additional_kwargs={} response_metadata={'token_usage': {'completion_tokens': 111, 'prompt_tokens': 391, 'total_tokens': 502, 'completion_tokens_details': {'accepted_prediction_tokens': 0, 'audio_tokens': 0, 'reasoning_tokens': 0, 'rejected_prediction_tokens': 0}, 'prompt_tokens_details': {'audio_tokens': 0, 'cached_tokens': 0}}, 'model_name': 'gpt-3.5-turbo', 'system_fingerprint': None, 'finish_reason': 'stop', 'logprobs': None} id='run--ae447fac-dc2a-43fc-8056-978a565b1f37-0'\n"
     ]
    }
   ],
   "source": [
    "print(\"=== Chain of Thought Answer ===\")\n",
    "print(llm.invoke([(\"human\", cot_text)]))"
   ]
  }
 ],
 "metadata": {
  "kernelspec": {
   "display_name": "venv",
   "language": "python",
   "name": "python3"
  },
  "language_info": {
   "codemirror_mode": {
    "name": "ipython",
    "version": 3
   },
   "file_extension": ".py",
   "mimetype": "text/x-python",
   "name": "python",
   "nbconvert_exporter": "python",
   "pygments_lexer": "ipython3",
   "version": "3.12.7"
  }
 },
 "nbformat": 4,
 "nbformat_minor": 2
}
