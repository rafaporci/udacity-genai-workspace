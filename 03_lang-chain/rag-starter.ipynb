{
 "cells": [
  {
   "cell_type": "code",
   "execution_count": 22,
   "metadata": {},
   "outputs": [
    {
     "name": "stdout",
     "output_type": "stream",
     "text": [
      "\n",
      "\u001b[1m[\u001b[0m\u001b[34;49mnotice\u001b[0m\u001b[1;39;49m]\u001b[0m\u001b[39;49m A new release of pip is available: \u001b[0m\u001b[31;49m24.2\u001b[0m\u001b[39;49m -> \u001b[0m\u001b[32;49m25.2\u001b[0m\n",
      "\u001b[1m[\u001b[0m\u001b[34;49mnotice\u001b[0m\u001b[1;39;49m]\u001b[0m\u001b[39;49m To update, run: \u001b[0m\u001b[32;49mpip install --upgrade pip\u001b[0m\n"
     ]
    }
   ],
   "source": [
    "!pip install -qU langchain-openai"
   ]
  },
  {
   "cell_type": "code",
   "execution_count": 23,
   "metadata": {},
   "outputs": [],
   "source": [
    "from langchain.document_loaders.csv_loader import CSVLoader\n",
    "from langchain.embeddings.openai import OpenAIEmbeddings\n",
    "from langchain.llms import OpenAI\n",
    "from langchain_openai import ChatOpenAI\n",
    "from langchain.text_splitter import CharacterTextSplitter\n",
    "from langchain.vectorstores import Chroma\n",
    "from langchain.chains import RetrievalQA\n",
    "from langchain.prompts import PromptTemplate\n",
    "from langchain import LLMChain\n",
    "from langchain.chains.question_answering import load_qa_chain"
   ]
  },
  {
   "cell_type": "code",
   "execution_count": 2,
   "metadata": {},
   "outputs": [],
   "source": [
    "# Add prereq code to set open API key\n",
    "# Load environment variables from a .env file\n",
    "from dotenv import load_dotenv\n",
    "load_dotenv()\n",
    "\n",
    "import os\n",
    "os.environ[\"OPENAI_API_KEY\"] = os.environ.get('API_KEY')\n",
    "os.environ[\"OPENAI_API_BASE\"] = \"https://openai.vocareum.com/v1\""
   ]
  },
  {
   "cell_type": "markdown",
   "metadata": {},
   "source": [
    "First, initialize your LLM"
   ]
  },
  {
   "cell_type": "code",
   "execution_count": 24,
   "metadata": {},
   "outputs": [],
   "source": [
    "# TODO: initialize OpenAI object with your API key\n",
    "llm = ChatOpenAI(model=\"gpt-3.5-turbo\", temperature=0)\n",
    "llm.openai_api_key = os.environ[\"OPENAI_API_KEY\"] \n",
    "llm.openai_api_base = os.environ[\"OPENAI_API_BASE\"]"
   ]
  },
  {
   "cell_type": "markdown",
   "metadata": {},
   "source": [
    "Then, load reviews from tv-reviews.csv"
   ]
  },
  {
   "cell_type": "code",
   "execution_count": 25,
   "metadata": {},
   "outputs": [
    {
     "name": "stdout",
     "output_type": "stream",
     "text": [
      "[Document(metadata={'source': './tv-reviews.csv', 'row': 0}, page_content='TV Name: TV Name\\nReview Title: Review Title\\nReview Rating: Review Rating\\nReview Text: Review Text'), Document(metadata={'source': './tv-reviews.csv', 'row': 1}, page_content=\"TV Name: Imagix Pro\\nReview Title: Amazing Picture Quality\\nReview Rating: 9\\nReview Text: I recently purchased the Imagix Pro and I am blown away by its picture quality. The colors are vibrant and the images are crystal clear. It feels like I'm watching movies in a theater! The sound is also impressive, creating a truly immersive experience. Highly recommended!\"), Document(metadata={'source': './tv-reviews.csv', 'row': 2}, page_content=\"TV Name: Imagix Pro\\nReview Title: Impressive Features\\nReview Rating: 8\\nReview Text: The Imagix Pro is packed with impressive features that enhance my viewing experience. The smart functionality allows me to easily stream my favorite shows and movies. The remote control is user-friendly and has convenient shortcuts. The slim design is sleek and fits perfectly in my living room. The only downside is that the sound could be better, but overall, I'm satisfied.\"), Document(metadata={'source': './tv-reviews.csv', 'row': 3}, page_content=\"TV Name: Imagix Pro\\nReview Title: Unmatched Clarity\\nReview Rating: 10\\nReview Text: I cannot express enough how impressed I am with the clarity of the Imagix Pro. Every detail is so sharp and lifelike, it's like I can reach out and touch the images on the screen. The colors are vibrant and realistic, making everything look stunning. It truly enhances my movie-watching experience!\"), Document(metadata={'source': './tv-reviews.csv', 'row': 4}, page_content=\"TV Name: Imagix Pro\\nReview Title: Disappointing Sound Quality\\nReview Rating: 3\\nReview Text: While the picture quality of the Imagix Pro is excellent, I am disappointed with the sound quality. The volume lacks depth and the bass is almost non-existent. I had to invest in external speakers to enjoy a better audio experience. It's a shame that such a great TV falls short in this aspect.\"), Document(metadata={'source': './tv-reviews.csv', 'row': 5}, page_content='TV Name: Imagix Pro\\nReview Title: Easy Setup and Navigation\\nReview Rating: 9\\nReview Text: Setting up the Imagix Pro was a breeze. The instructions were clear and the TV guided me through the process smoothly. The interface is intuitive and easy to navigate. I love how seamless it is to switch between different apps and inputs. This TV has made my life so much simpler!'), Document(metadata={'source': './tv-reviews.csv', 'row': 6}, page_content=\"TV Name: Imagix Pro\\nReview Title: Stunning Design\\nReview Rating: 10\\nReview Text: The Imagix Pro not only offers exceptional performance but also boasts a stunning design. The ultra-thin bezels and sleek finish make it a focal point of my living room. The TV blends seamlessly with my decor. It's a true work of art!\"), Document(metadata={'source': './tv-reviews.csv', 'row': 7}, page_content='TV Name: Imagix Pro\\nReview Title: Outstanding Value for Money\\nReview Rating: 9\\nReview Text: The Imagix Pro is a fantastic value for money. Considering its high-quality performance, impressive features, and sleek design, it offers more bang for the buck compared to other TVs in the market. I am extremely satisfied with my purchase.'), Document(metadata={'source': './tv-reviews.csv', 'row': 8}, page_content=\"TV Name: Imagix Pro\\nReview Title: Unreliable Connectivity\\nReview Rating: 4\\nReview Text: One major issue I have encountered with the Imagix Pro is its unreliable connectivity. The Wi-Fi frequently disconnects, causing buffering issues during streaming. The TV also struggles to maintain a stable Bluetooth connection. It's frustrating, especially considering the price I paid.\"), Document(metadata={'source': './tv-reviews.csv', 'row': 9}, page_content=\"TV Name: Imagix Pro\\nReview Title: Perfect Gaming TV\\nReview Rating: 8\\nReview Text: As a gaming enthusiast, the Imagix Pro is a dream come true. The low input lag and high refresh rate ensure smooth gameplay. The colors are vibrant and the details are crisp, providing an immersive gaming experience. It's the perfect TV for all gamers out there!\"), Document(metadata={'source': './tv-reviews.csv', 'row': 10}, page_content='TV Name: Imagix Pro\\nReview Title: Exceptional Customer Service\\nReview Rating: 10\\nReview Text: I had a minor issue with my Imagix Pro, but the customer service team was exceptional. They were prompt in addressing my concern and guided me through the troubleshooting process. They even offered a quick replacement when the issue persisted. Kudos to their excellent support!'), Document(metadata={'source': './tv-reviews.csv', 'row': 11}, page_content=\"TV Name: VisionMax Ultra\\nReview Title: Unmatched Visuals\\nReview Rating: 10\\nReview Text: The VisionMax Ultra lives up to its name by delivering unmatched visuals. The 4K resolution and HDR technology bring every scene to life with incredible detail and vibrant colors. It's like having a cinema in my own home. I couldn't be happier with this TV!\"), Document(metadata={'source': './tv-reviews.csv', 'row': 12}, page_content=\"TV Name: VisionMax Ultra\\nReview Title: Disappointing Sound\\nReview Rating: 5\\nReview Text: While the picture quality of the VisionMax Ultra is exceptional, the sound quality falls short. The built-in speakers lack depth and the audio feels hollow. I had to connect external speakers to enjoy a fulfilling audio experience. It's a letdown considering the overall performance of the TV.\"), Document(metadata={'source': './tv-reviews.csv', 'row': 13}, page_content='TV Name: VisionMax Ultra\\nReview Title: Sleek and Modern\\nReview Rating: 9\\nReview Text: The VisionMax Ultra fits perfectly into my modern living room decor. The slim design and minimalistic bezels make it look sleek and stylish. The TV is a seamless addition to my home, and it never fails to impress my guests.'), Document(metadata={'source': './tv-reviews.csv', 'row': 14}, page_content=\"TV Name: VisionMax Ultra\\nReview Title: Impressive Smart Features\\nReview Rating: 8\\nReview Text: The VisionMax Ultra comes loaded with impressive smart features. The user interface is intuitive and easy to navigate. The TV seamlessly integrates with various streaming platforms, providing a hassle-free entertainment experience. It's like having a smart hub at my fingertips.\"), Document(metadata={'source': './tv-reviews.csv', 'row': 15}, page_content=\"TV Name: VisionMax Ultra\\nReview Title: Excellent Picture Clarity\\nReview Rating: 9\\nReview Text: The picture clarity of the VisionMax Ultra is simply outstanding. The images are sharp, and the colors are vivid. Whether I'm watching movies, sports, or playing games, the visuals are always stunning. This TV takes my viewing experience to a whole new level!\"), Document(metadata={'source': './tv-reviews.csv', 'row': 16}, page_content=\"TV Name: VisionMax Ultra\\nReview Title: Insufficient HDMI Ports\\nReview Rating: 6\\nReview Text: One downside of the VisionMax Ultra is the limited number of HDMI ports. With the increasing number of HDMI devices, it's frustrating to constantly switch cables. I wish there were more ports to accommodate all my devices without the need for an HDMI switcher.\"), Document(metadata={'source': './tv-reviews.csv', 'row': 17}, page_content='TV Name: VisionMax Ultra\\nReview Title: Easy Installation Process\\nReview Rating: 9\\nReview Text: Setting up the VisionMax Ultra was a breeze. The instructions provided were clear and concise, making the installation process quick and hassle-free. The TV also offers various mounting options, allowing me to choose the perfect placement for my viewing pleasure.'), Document(metadata={'source': './tv-reviews.csv', 'row': 18}, page_content=\"TV Name: VisionMax Ultra\\nReview Title: Immersive Audio Experience\\nReview Rating: 10\\nReview Text: The VisionMax Ultra delivers an immersive audio experience. The built-in speakers produce clear and well-balanced sound. The Dolby Atmos technology adds depth and dimension to the audio, making it feel like I'm in a theater. I'm thoroughly impressed!\"), Document(metadata={'source': './tv-reviews.csv', 'row': 19}, page_content=\"TV Name: VisionMax Ultra\\nReview Title: Unresponsive Remote Control\\nReview Rating: 4\\nReview Text: One major drawback of the VisionMax Ultra is the unresponsive remote control. It often takes multiple presses for the TV to register the command. It's frustrating, especially when navigating through menus or adjusting settings. The remote control definitely needs improvement.\"), Document(metadata={'source': './tv-reviews.csv', 'row': 20}, page_content='TV Name: VisionMax Ultra\\nReview Title: Value for Money\\nReview Rating: 8\\nReview Text: The VisionMax Ultra offers exceptional value for money. Compared to other high-end TVs in the market, it provides similar performance at a more affordable price. The picture quality and smart features make it a worthwhile investment. Highly recommended!')]\n"
     ]
    }
   ],
   "source": [
    "from langchain_community.document_loaders import CSVLoader\n",
    "\n",
    "loader = CSVLoader(file_path='./tv-reviews.csv',\n",
    "    csv_args={\n",
    "    'delimiter': ',',\n",
    "    'quotechar': '\"',\n",
    "    'fieldnames': ['TV Name', 'Review Title', 'Review Rating', 'Review Text']\n",
    "})\n",
    "\n",
    "docs = loader.load()\n",
    "print(docs)"
   ]
  },
  {
   "cell_type": "markdown",
   "metadata": {},
   "source": [
    "Split the documents you loaded into smaller chunks"
   ]
  },
  {
   "cell_type": "code",
   "execution_count": 26,
   "metadata": {},
   "outputs": [],
   "source": [
    "splitter = CharacterTextSplitter(chunk_size=1000, chunk_overlap=0)\n",
    "split_docs = splitter.split_documents(docs)"
   ]
  },
  {
   "cell_type": "markdown",
   "metadata": {},
   "source": [
    "Now, initialize your embeddings"
   ]
  },
  {
   "cell_type": "code",
   "execution_count": 27,
   "metadata": {},
   "outputs": [],
   "source": [
    "embeddings = OpenAIEmbeddings(model=\"text-embedding-3-small\")\n",
    "embeddings.openai_api_key = os.environ[\"OPENAI_API_KEY\"]\n",
    "embeddings.openai_api_base = os.environ[\"OPENAI_API_BASE\"]\n",
    "db = Chroma.from_documents(split_docs, embedding=embeddings)"
   ]
  },
  {
   "cell_type": "markdown",
   "metadata": {},
   "source": [
    "Initialize your vector db with your embeddings model and populate with your text chunks"
   ]
  },
  {
   "cell_type": "markdown",
   "metadata": {},
   "source": [
    "Query your vector database for 5 most semantically similar chunks"
   ]
  },
  {
   "cell_type": "code",
   "execution_count": 28,
   "metadata": {},
   "outputs": [
    {
     "name": "stdout",
     "output_type": "stream",
     "text": [
      "5\n"
     ]
    }
   ],
   "source": [
    "query = \"\"\"\n",
    "    Based on the reviews in the context, tell me what people liked about the picture quality.\n",
    "    Make sure you do not paraphrase the reviews, and only use the information provided in the reviews.\n",
    "    \"\"\"\n",
    "\n",
    "similar_docs = db.similarity_search(query, k=5)\n",
    "print(len(similar_docs))"
   ]
  },
  {
   "cell_type": "markdown",
   "metadata": {},
   "source": [
    "Combined, they should provide enough information to answer our question about picture quality"
   ]
  },
  {
   "cell_type": "code",
   "execution_count": 29,
   "metadata": {},
   "outputs": [
    {
     "name": "stdout",
     "output_type": "stream",
     "text": [
      "People liked the vibrant colors and crystal clear images of the picture quality on the Imagix Pro TV. They also appreciated the sharpness and lifelike details that made the viewing experience feel immersive and like watching movies in a theater.\n"
     ]
    }
   ],
   "source": [
    "prompt = PromptTemplate(\n",
    "    template=\"{query}\\nContext: {context}\",\n",
    "    input_variables=[\"query\", \"context\"],\n",
    ")\n",
    "chain = load_qa_chain(llm, prompt = prompt, chain_type=\"stuff\")\n",
    "print(chain.run(input_documents=similar_docs, query=query))\n"
   ]
  }
 ],
 "metadata": {
  "kernelspec": {
   "display_name": "venv",
   "language": "python",
   "name": "python3"
  },
  "language_info": {
   "codemirror_mode": {
    "name": "ipython",
    "version": 3
   },
   "file_extension": ".py",
   "mimetype": "text/x-python",
   "name": "python",
   "nbconvert_exporter": "python",
   "pygments_lexer": "ipython3",
   "version": "3.12.7"
  }
 },
 "nbformat": 4,
 "nbformat_minor": 2
}
