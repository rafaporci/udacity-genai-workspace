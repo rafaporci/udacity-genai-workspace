{
 "cells": [
  {
   "cell_type": "markdown",
   "metadata": {},
   "source": [
    "In this exercise, you are tasked with creating an application that aggregates and summarizes restaurant reviews. Users will provide the name of a restaurant and the type of cuisine, and the application will generate a summary of the most prevalent sentiments found in online reviews for that specific restaurant and cuisine type.\n",
    "\n",
    "**Challenge** \n",
    "\n",
    "Develop a prompt template that guides the LLM to generate a concise, sentiment-focused summary based on user inputs: the restaurant name and the type of cuisine."
   ]
  },
  {
   "cell_type": "markdown",
   "metadata": {},
   "source": [
    "**Understand the User Inputs**\n",
    "\n",
    "Identify the essential user inputs for this task. In this scenario, you need:\n",
    "- Restaurant Name\n",
    "- Cuisine Type\n",
    "- Can you think of others to make your prompt more specific or flexible? "
   ]
  },
  {
   "cell_type": "code",
   "execution_count": 7,
   "metadata": {},
   "outputs": [
    {
     "data": {
      "text/plain": [
       "True"
      ]
     },
     "execution_count": 7,
     "metadata": {},
     "output_type": "execute_result"
    }
   ],
   "source": [
    "# Load environment variables from a .env file\n",
    "from dotenv import load_dotenv\n",
    "load_dotenv()"
   ]
  },
  {
   "cell_type": "code",
   "execution_count": 8,
   "metadata": {},
   "outputs": [],
   "source": [
    "# Create variables to store the user inputs\n",
    "restaurant_name = 'Sushimia Porto'\n",
    "cuisine_type = 'Japanese'"
   ]
  },
  {
   "cell_type": "markdown",
   "metadata": {},
   "source": [
    "**Create the Prompt**\n",
    "\n",
    "Design a template that integrates the user inputs into the LLM prompt.\n",
    "Use brackets {} to denote where the user inputs should be placed. This makes the template dynamic, allowing for different restaurant names and cuisine types to be inserted into the prompt."
   ]
  },
  {
   "cell_type": "code",
   "execution_count": 9,
   "metadata": {},
   "outputs": [
    {
     "name": "stdout",
     "output_type": "stream",
     "text": [
      "You are a culinary expert specializing in Japanese cuisine. Your task is to summarize the experience our client can expected based in the online reviews for the restaurant Sushimia Porto\n"
     ]
    }
   ],
   "source": [
    "prompt = f\"You are a culinary expert specializing in {cuisine_type} cuisine. Your task is to summarize the experience our client can expected based in the online reviews for the restaurant {restaurant_name}\"\n",
    "print(prompt)"
   ]
  },
  {
   "cell_type": "markdown",
   "metadata": {},
   "source": [
    "Now, call the OpenAI GPT-3.5 API with your prompt and see how the model responds"
   ]
  },
  {
   "cell_type": "code",
   "execution_count": 10,
   "metadata": {},
   "outputs": [
    {
     "name": "stdout",
     "output_type": "stream",
     "text": [
      "At Sushimia Porto, diners can expect the authentic taste of Japanese cuisine unfolded in a vibrant and warm atmosphere. According to the online reviews, the restaurant takes customers on a culinary journey through Japan with an extensive menu, offering a rich array of flavors from fresh sashimi to mouthwatering sushi rolls.\n",
      "\n",
      "Many reviewers praised not just the quality and taste of the food, but also the presentation, which mirrors Sushimia Porto's attention to detail - a key trait of Japanese dining culture. Expect to be visually captivated by beautifully presented, aesthetically pleasing dishes.\n",
      "\n",
      "The service provided at Sushimia Porto is also frequently complimented for its cordiality and efficiency. The staff are reported to be knowledgeable and able to provide detailed explanations of the dishes on the menu, enhancing the overall dining experience, especially for those new to Japanese cuisine.\n",
      "\n",
      "The atmosphere of the restaurant is highly appreciated. Reviewers depict it as warm, cozy, and authentic, which only adds more charm to the dining experience. For specific preferences in seating, the restaurant also offers regular tables, an engaging sushi bar, and even a private dining area for those desiring a more intimate gathering.\n",
      "\n",
      "Additionally, online reviewers applaud Sushimia Porto for catering to various dietary needs, ensuring there's a delectable option for every diner. Among the must-tries listed by the reviewers are fresh nigiri, flavourful maki rolls, and delectable tempura.\n",
      "\n",
      "However, note that some reviewers have cited higher prices as a minor drawback. Nonetheless, they further emphasize that the culinary artistry, dining experience, and the superior quality of food justify the costs. Be it for a casual dinner or a special occasion, Sushimia Porto ensures a memorable experience for lovers of Japanese cuisine.\n"
     ]
    }
   ],
   "source": [
    "# Call the OpenAI API with your prompt and print the response\n",
    "# (This part is not included in the provided code snippet, but you would typically use the OpenAI API client here)\n",
    "import openai\n",
    "import os\n",
    "\n",
    "client = openai.OpenAI(\n",
    "    base_url = \"https://openai.vocareum.com/v1\",\n",
    "    api_key = os.environ.get('API_KEY')\n",
    ")\n",
    "\n",
    "response = client.chat.completions.create(\n",
    "    model=\"gpt-4\",\n",
    "    messages=[\n",
    "        {\n",
    "            \"role\": \"user\",\n",
    "            \"content\": prompt\n",
    "        }\n",
    "    ]\n",
    ")\n",
    "\n",
    "response_text = response.choices[0].message.content\n",
    "print(response_text)"
   ]
  }
 ],
 "metadata": {
  "kernelspec": {
   "display_name": "venv",
   "language": "python",
   "name": "python3"
  },
  "language_info": {
   "codemirror_mode": {
    "name": "ipython",
    "version": 3
   },
   "file_extension": ".py",
   "mimetype": "text/x-python",
   "name": "python",
   "nbconvert_exporter": "python",
   "pygments_lexer": "ipython3",
   "version": "3.12.7"
  }
 },
 "nbformat": 4,
 "nbformat_minor": 2
}
