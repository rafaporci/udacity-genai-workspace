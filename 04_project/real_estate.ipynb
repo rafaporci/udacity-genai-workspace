{
 "cells": [
  {
   "cell_type": "markdown",
   "id": "dec449d9",
   "metadata": {},
   "source": [
    "Steps to the agent:\n",
    "\n",
    "1. Question about client preferences, life-style, etc\n",
    "2. Use LLM to generate a description of an ideal apartment\n",
    "3. Query listings using vector search (embeddings to find the apartments)\n",
    "4. Filter by some hard constraings (such as number of rooms)\n",
    "5. Present the final listing adapting the description to the user preferences\n"
   ]
  },
  {
   "cell_type": "code",
   "execution_count": null,
   "id": "08ed537b",
   "metadata": {},
   "outputs": [
    {
     "data": {
      "text/plain": [
       "True"
      ]
     },
     "execution_count": 2,
     "metadata": {},
     "output_type": "execute_result"
    }
   ],
   "source": [
    "from dotenv import load_dotenv\n",
    "load_dotenv()  "
   ]
  },
  {
   "cell_type": "code",
   "execution_count": 3,
   "id": "f21e1fe1",
   "metadata": {},
   "outputs": [],
   "source": [
    "import openai\n",
    "import os\n",
    "\n",
    "client = openai.OpenAI(\n",
    "    base_url = \"https://openai.vocareum.com/v1\",\n",
    "    api_key = os.environ.get('API_KEY')\n",
    ")"
   ]
  },
  {
   "cell_type": "code",
   "execution_count": 19,
   "id": "fcbc55bf",
   "metadata": {},
   "outputs": [],
   "source": [
    "import json\n",
    "\n",
    "if not os.path.exists('listings.json'):\n",
    "    response = client.chat.completions.create(\n",
    "        model=\"gpt-4\",\n",
    "        messages=[\n",
    "            {\n",
    "                \"role\": \"user\",\n",
    "                \"content\": f\"Generate 10 real estate listings for houses in the city of Porto, Portugal, the listing should include the following fields: price, number_of_bedrooms, square_footage, description and neighborhood_description, the format should be a JSON\"\n",
    "            }\n",
    "        ]\n",
    "    )\n",
    "\n",
    "    listings = json.loads(response.choices[0].message.content)\n",
    "    with open('listings.json', 'w') as f:\n",
    "        json.dump(listings, f)\n",
    "else:\n",
    "    with open('listings.json', 'r') as f:\n",
    "        listings = json.load(f)"
   ]
  },
  {
   "cell_type": "code",
   "execution_count": 21,
   "id": "f722a33e",
   "metadata": {},
   "outputs": [
    {
     "name": "stdout",
     "output_type": "stream",
     "text": [
      "[{'price': '€550,000', 'number_of_bedrooms': 3, 'square_footage': 2100, 'description': 'Modern, spacious villa with panoramic views of the city. The house features a beautifully manicured garden, a fully equipped kitchen, and a large garage.', 'neighborhood_description': 'Situated in the most gentrified neighborhood in Porto, known for its peaceful ambience, high-end shops, and close proximity to the city center.'}, {'price': '€375,000', 'number_of_bedrooms': 2, 'square_footage': 1400, 'description': 'Charming townhouse in a historic building, with modern amenities and original architectural details. Comes with a lovely terrace and fireplace.', 'neighborhood_description': 'Located in a tranquil neighborhood, full of local cafes and shops, and walking distance from the Douro River.'}, {'price': '€650,000', 'number_of_bedrooms': 4, 'square_footage': 2400, 'description': 'Luxurious detached house with high-end finishes, a spacious private yard, a swimming pool, and a rooftop terrace.', 'neighborhood_description': 'Neighborly ambience, with high-rated schools and parks, 15 min away from the city center.'}, {'price': '€275,000', 'number_of_bedrooms': 1, 'square_footage': 800, 'description': 'Cozy apartment in a modern building, with open-plan living and a fully fitted kitchen. Large windows and a balcony offer stunning city views.', 'neighborhood_description': \"Situated in Porto's bustling downtown, with great connection to public transport, restaurants, and entertainment venues.\"}, {'price': '€800,000', 'number_of_bedrooms': 5, 'square_footage': 3200, 'description': 'A lavish villa with lots of natural light, spacious living areas, and contemporary architecture. Includes a large garden and a private swimming pool.', 'neighborhood_description': 'Set in a desirable area, known for its long stretches of green spaces, upscale dining options, and posh boutiques.'}, {'price': '€400,000', 'number_of_bedrooms': 3, 'square_footage': 1800, 'description': 'A modern duplex with a large living room, fully equipped kitchen, and a private terrace. The house is furnished with minimalist, contemporary pieces.', 'neighborhood_description': 'A vibrant and artistically-plentiful neighborhood, filled with galleries, live music venues, and creative businesses.'}, {'price': '€300,000', 'number_of_bedrooms': 2, 'square_footage': 1600, 'description': 'Charming and well-maintained apartment with a private garden, a spacious kitchen, and hardwood floors.', 'neighborhood_description': 'Located in a family-friendly neighborhood offering many recreational parks, trendy cafes, and grocery stores.'}, {'price': '€480,000', 'number_of_bedrooms': 2, 'square_footage': 1400, 'description': 'Stylish, renovated loft with high ceilings, large windows and exposed brick. Features bright and open spaces, as well as a private balcony.', 'neighborhood_description': 'Set in a quiet and safe area, with easy access to public transportation, and plentiful shopping options.'}, {'price': '€900,000', 'number_of_bedrooms': 4, 'square_footage': 2800, 'description': 'Stunning Riverside apartment with a modern kitchen, luxurious master suite, and expansive balcony offering panoramic views of the Douro River.', 'neighborhood_description': \"Set in one of Porto's most historic and picturesque neighborhoods, famous for its waterfront promenade, quaint shops, and trendy wine bars.\"}, {'price': '€350,000', 'number_of_bedrooms': 2, 'square_footage': 1200, 'description': 'Beautifully maintained traditional townhouse with many original features in a peaceful setting. Includes a large outdoor terrace and basement storage.', 'neighborhood_description': 'Situated in a charming neighborhood with lush parks, great schools, local eateries, and close to the centre.'}]\n"
     ]
    }
   ],
   "source": [
    "print(listings)"
   ]
  }
 ],
 "metadata": {
  "kernelspec": {
   "display_name": "venv",
   "language": "python",
   "name": "python3"
  },
  "language_info": {
   "codemirror_mode": {
    "name": "ipython",
    "version": 3
   },
   "file_extension": ".py",
   "mimetype": "text/x-python",
   "name": "python",
   "nbconvert_exporter": "python",
   "pygments_lexer": "ipython3",
   "version": "3.12.7"
  }
 },
 "nbformat": 4,
 "nbformat_minor": 5
}
