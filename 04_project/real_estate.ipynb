{
 "cells": [
  {
   "cell_type": "markdown",
   "id": "dec449d9",
   "metadata": {},
   "source": [
    "### REAL ESTATE AGENT ########################\n",
    "\n",
    "Steps to build the agent:\n",
    "\n",
    "1. Use LLM to generate listings\n",
    "2. Question about client preferences, life-style, etc\n",
    "3. Use LLM to generate a description of an ideal apartment\n",
    "4. Query listings using vector search (embeddings to find the apartments)\n",
    "5. Filter by some hard constraings (budget limit)\n",
    "6. Present the final listing adapting the description to the user preferences\n",
    "\n",
    "Tests:\n",
    "\n",
    "To evaluate the agent we will run two scenarios:\n",
    "1. Family with kids looking for calm places\n",
    "2. Single person looking for vibrant places"
   ]
  },
  {
   "cell_type": "code",
   "execution_count": 77,
   "id": "04ba4913",
   "metadata": {},
   "outputs": [
    {
     "name": "stderr",
     "output_type": "stream",
     "text": [
      "/Users/rafael.esquicato/Documents/projects/udacity-genai-workspace/venv/lib/python3.12/site-packages/lancedb/__init__.py:238: UserWarning: lance is not fork-safe. If you are using multiprocessing, use spawn instead.\n",
      "  warnings.warn(\n"
     ]
    },
    {
     "name": "stdout",
     "output_type": "stream",
     "text": [
      "\n",
      "\u001b[1m[\u001b[0m\u001b[34;49mnotice\u001b[0m\u001b[1;39;49m]\u001b[0m\u001b[39;49m A new release of pip is available: \u001b[0m\u001b[31;49m24.2\u001b[0m\u001b[39;49m -> \u001b[0m\u001b[32;49m25.2\u001b[0m\n",
      "\u001b[1m[\u001b[0m\u001b[34;49mnotice\u001b[0m\u001b[1;39;49m]\u001b[0m\u001b[39;49m To update, run: \u001b[0m\u001b[32;49mpip install --upgrade pip\u001b[0m\n",
      "\n",
      "\u001b[1m[\u001b[0m\u001b[34;49mnotice\u001b[0m\u001b[1;39;49m]\u001b[0m\u001b[39;49m A new release of pip is available: \u001b[0m\u001b[31;49m24.2\u001b[0m\u001b[39;49m -> \u001b[0m\u001b[32;49m25.2\u001b[0m\n",
      "\u001b[1m[\u001b[0m\u001b[34;49mnotice\u001b[0m\u001b[1;39;49m]\u001b[0m\u001b[39;49m To update, run: \u001b[0m\u001b[32;49mpip install --upgrade pip\u001b[0m\n",
      "\n",
      "\u001b[1m[\u001b[0m\u001b[34;49mnotice\u001b[0m\u001b[1;39;49m]\u001b[0m\u001b[39;49m A new release of pip is available: \u001b[0m\u001b[31;49m24.2\u001b[0m\u001b[39;49m -> \u001b[0m\u001b[32;49m25.2\u001b[0m\n",
      "\u001b[1m[\u001b[0m\u001b[34;49mnotice\u001b[0m\u001b[1;39;49m]\u001b[0m\u001b[39;49m To update, run: \u001b[0m\u001b[32;49mpip install --upgrade pip\u001b[0m\n",
      "\n",
      "\u001b[1m[\u001b[0m\u001b[34;49mnotice\u001b[0m\u001b[1;39;49m]\u001b[0m\u001b[39;49m A new release of pip is available: \u001b[0m\u001b[31;49m24.2\u001b[0m\u001b[39;49m -> \u001b[0m\u001b[32;49m25.2\u001b[0m\n",
      "\u001b[1m[\u001b[0m\u001b[34;49mnotice\u001b[0m\u001b[1;39;49m]\u001b[0m\u001b[39;49m To update, run: \u001b[0m\u001b[32;49mpip install --upgrade pip\u001b[0m\n",
      "Requirement already satisfied: pylance in /Users/rafael.esquicato/Documents/projects/udacity-genai-workspace/venv/lib/python3.12/site-packages (0.33.0)\n",
      "Requirement already satisfied: pyarrow>=14 in /Users/rafael.esquicato/Documents/projects/udacity-genai-workspace/venv/lib/python3.12/site-packages (from pylance) (21.0.0)\n",
      "Requirement already satisfied: numpy>=1.22 in /Users/rafael.esquicato/Documents/projects/udacity-genai-workspace/venv/lib/python3.12/site-packages (from pylance) (2.3.2)\n",
      "\n",
      "\u001b[1m[\u001b[0m\u001b[34;49mnotice\u001b[0m\u001b[1;39;49m]\u001b[0m\u001b[39;49m A new release of pip is available: \u001b[0m\u001b[31;49m24.2\u001b[0m\u001b[39;49m -> \u001b[0m\u001b[32;49m25.2\u001b[0m\n",
      "\u001b[1m[\u001b[0m\u001b[34;49mnotice\u001b[0m\u001b[1;39;49m]\u001b[0m\u001b[39;49m To update, run: \u001b[0m\u001b[32;49mpip install --upgrade pip\u001b[0m\n"
     ]
    }
   ],
   "source": [
    "!pip install -qU numpy\n",
    "!pip install -qU openai\n",
    "!pip install -qU langchain-openai\n",
    "!pip install -U --quiet lancedb pandas pydantic\n",
    "!pip install pylance"
   ]
  },
  {
   "cell_type": "code",
   "execution_count": 89,
   "id": "08ed537b",
   "metadata": {},
   "outputs": [
    {
     "data": {
      "text/plain": [
       "True"
      ]
     },
     "execution_count": 89,
     "metadata": {},
     "output_type": "execute_result"
    }
   ],
   "source": [
    "# loading environment variables (copy .env.dist to .env. and update OPEN_AI api key there)\n",
    "from dotenv import load_dotenv\n",
    "load_dotenv()  "
   ]
  },
  {
   "cell_type": "code",
   "execution_count": 90,
   "id": "f21e1fe1",
   "metadata": {},
   "outputs": [],
   "source": [
    "import os\n",
    "from langchain.prompts import PromptTemplate\n",
    "from langchain.chat_models import ChatOpenAI \n",
    "import openai\n",
    "\n",
    "client = openai.OpenAI(\n",
    "    base_url = os.environ.get('BASE_URL'),\n",
    "    api_key = os.environ.get('API_KEY')\n",
    ")\n",
    "\n",
    "llm = ChatOpenAI(model=\"gpt-3.5-turbo\", temperature=0, api_key=os.environ[\"API_KEY\"], base_url=os.environ.get('BASE_URL'))"
   ]
  },
  {
   "cell_type": "code",
   "execution_count": 85,
   "id": "fcbc55bf",
   "metadata": {},
   "outputs": [],
   "source": [
    "import json\n",
    "\n",
    "if not os.path.exists('listings.json'):\n",
    "    response = llm.invoke(f\"Generate 10 real estate listings for houses in the city of Porto, Portugal, the listing should include the following fields: price, number_of_bedrooms, square_footage, description and neighborhood_description, the format should be a JSON\")\n",
    "\n",
    "    listings = json.loads(response.content)\n",
    "    with open('listings.json', 'w') as f:\n",
    "        json.dump(listings, f)\n",
    "else:\n",
    "    with open('listings.json', 'r') as f:\n",
    "        listings = json.load(f)"
   ]
  },
  {
   "cell_type": "markdown",
   "id": "9b91b5c4",
   "metadata": {},
   "source": [
    "Define the base questionnarie and fill the awnsers for the first scenario: Family with kids looking for calm places."
   ]
  },
  {
   "cell_type": "code",
   "execution_count": 86,
   "id": "3da12f79",
   "metadata": {},
   "outputs": [],
   "source": [
    "# questions to ask the user about their personal preferences\n",
    "personal_questions = [  \"Do you work in person or remotely?\",\n",
    "                        \"Do you have kids?\",\n",
    "                        \"Do you prefer vibrant neighborhoods or calm places?\",\n",
    "                        \"Do you like to cook in your free time?\",\n",
    "                        \"Do you prefer to spend time indoors or outdoors?\",\n",
    "                        \"What is your budget limit (in euros)?\",\n",
    "                       ]\n",
    "\n",
    "# personal_answers = [ ] \n",
    "# for question in personal_questions:\n",
    "#    answer = input(question)\n",
    "#    personal_answers.append(answer)\n",
    "    \n",
    "# list of your personal answers to the questions above\n",
    "# first scenario: family with kids\n",
    "personal_answers = ['Remotely', 'Yes', 'Calm', 'Yes, I love!', 'Indoors', '400000']"
   ]
  },
  {
   "cell_type": "code",
   "execution_count": 93,
   "id": "e8320d32",
   "metadata": {},
   "outputs": [
    {
     "name": "stdout",
     "output_type": "stream",
     "text": [
      "Do you work in person or remotely? Remotely\n",
      "Do you have kids? Yes\n",
      "Do you prefer vibrant neighborhoods or calm places? Calm\n",
      "Do you like to cook in your free time? Yes, I love!\n",
      "Do you prefer to spend time indoors or outdoors? Indoors\n",
      "\n"
     ]
    }
   ],
   "source": [
    "def fill_questionaire(personal_questions, personal_answers):\n",
    "    questionnaire = \"\"\n",
    "    for i in range(len(personal_questions[0:-1])): # avoid the last question (budget)\n",
    "        questionnaire += personal_questions[i] + \" \" + personal_answers[i] + \"\\n\"\n",
    "    return questionnaire\n",
    "questionnaire = fill_questionaire(personal_questions, personal_answers)\n",
    "print(questionnaire)"
   ]
  },
  {
   "cell_type": "markdown",
   "id": "8a843e0c",
   "metadata": {},
   "source": [
    "Generating the prompt to translate the questionarie in a listing description. "
   ]
  },
  {
   "cell_type": "code",
   "execution_count": 94,
   "id": "81d60289",
   "metadata": {},
   "outputs": [
    {
     "name": "stdout",
     "output_type": "stream",
     "text": [
      "\n",
      "    You are a real estate agent. Based on the context provided, generate a description of the ideal house for the user,\n",
      "    taking into account their personal preferences described in the questionnaire below.\n",
      "\n",
      "Do you work in person or remotely? Remotely\n",
      "Do you have kids? Yes\n",
      "Do you prefer vibrant neighborhoods or calm places? Calm\n",
      "Do you like to cook in your free time? Yes, I love!\n",
      "Do you prefer to spend time indoors or outdoors? Indoors\n",
      "\n"
     ]
    }
   ],
   "source": [
    "prompt_target_description = PromptTemplate(\n",
    "    template=\"{question}\\n{questionnaire}\",\n",
    "    input_variables=[\"question\",\"questionnaire\"],\n",
    ")\n",
    "question_target_description = \"\"\"\n",
    "    You are a real estate agent. Based on the context provided, generate a description of the ideal house for the user,\n",
    "    taking into account their personal preferences described in the questionnaire below.\n",
    "\"\"\"\n",
    "\n",
    "query = prompt_target_description.format(question = question_target_description, questionnaire = questionnaire)\n",
    "print(query)"
   ]
  },
  {
   "cell_type": "markdown",
   "id": "0fb852eb",
   "metadata": {},
   "source": [
    "Using the questionnarie, we will generate the description of the ideal listing for this user:"
   ]
  },
  {
   "cell_type": "code",
   "execution_count": 95,
   "id": "59af8021",
   "metadata": {},
   "outputs": [
    {
     "name": "stdout",
     "output_type": "stream",
     "text": [
      "Based on your preferences, the ideal house for you would be a spacious and cozy home located in a quiet and peaceful neighborhood. The house should have a large, well-equipped kitchen where you can indulge in your love for cooking. It should also have plenty of indoor living space for you and your kids to enjoy, with comfortable and inviting areas for relaxation and entertainment. Additionally, a backyard or outdoor space for some fresh air and relaxation would be a nice bonus, even though you prefer spending most of your time indoors. Overall, a tranquil and comfortable home that caters to your love for cooking and indoor activities would be perfect for you and your family.\n"
     ]
    }
   ],
   "source": [
    "target_description = llm.invoke(query).content\n",
    "print(target_description)"
   ]
  },
  {
   "cell_type": "markdown",
   "id": "190916ff",
   "metadata": {},
   "source": [
    "Now it's time to create the embeddings for our vector database, we will build using listing and neighboorhood descriptions."
   ]
  },
  {
   "cell_type": "code",
   "execution_count": 96,
   "id": "5ec75f8e",
   "metadata": {},
   "outputs": [
    {
     "name": "stdout",
     "output_type": "stream",
     "text": [
      "Total listings to process: 10\n",
      "Generating embeddings for listings...\n",
      "Processed batch 1/1\n",
      "Generated 10 embeddings\n"
     ]
    }
   ],
   "source": [
    "import time\n",
    "\n",
    "print(f\"Total listings to process: {len(listings)}\")\n",
    "\n",
    "# Generate embeddings for all listings\n",
    "print(\"Generating embeddings for listings...\")\n",
    "embeddings = []\n",
    "batch_size = 10  # Process in batches to avoid rate limits\n",
    "\n",
    "for i in range(0, len(listings), batch_size):\n",
    "    batch = listings[i:i+batch_size]\n",
    "    batch_texts = [listing['description'] + \" \" + listing['neighborhood_description'] for listing in batch]\n",
    "\n",
    "    try:\n",
    "        response = client.embeddings.create(\n",
    "            input=batch_texts,\n",
    "            model=\"text-embedding-3-small\"\n",
    "        )\n",
    "        \n",
    "        batch_embeddings = [embedding.embedding for embedding in response.data]\n",
    "        embeddings.extend(batch_embeddings)\n",
    "        \n",
    "        print(f\"Processed batch {i//batch_size + 1}/{(len(listings) + batch_size - 1)//batch_size}\")\n",
    "        \n",
    "        # Small delay to respect rate limits\n",
    "        time.sleep(0.1)\n",
    "        \n",
    "    except Exception as e:\n",
    "        print(f\"Error processing batch {i//batch_size + 1}: {e}\")\n",
    "        break\n",
    "\n",
    "print(f\"Generated {len(embeddings)} embeddings\")"
   ]
  },
  {
   "cell_type": "markdown",
   "id": "56492f13",
   "metadata": {},
   "source": [
    "Now we will create the lancedb table listings to save our listings along with the embeddings."
   ]
  },
  {
   "cell_type": "code",
   "execution_count": 104,
   "id": "fe769d64",
   "metadata": {},
   "outputs": [
    {
     "name": "stdout",
     "output_type": "stream",
     "text": [
      "Prepared 10 listings for LanceDB\n",
      "Created LanceDB table with listings and embeddings\n"
     ]
    }
   ],
   "source": [
    "import lancedb\n",
    "\n",
    "def convert_to_float(price_str):\n",
    "    try:\n",
    "        return float(price_str.replace(\"$\", \"\").replace(\",\", \"\").replace(\"\\u20ac\", \"\").strip())\n",
    "    except ValueError:\n",
    "        return 0.0\n",
    "\n",
    "db = lancedb.connect(\"./lancedb\")\n",
    "\n",
    "# Prepare data for LanceDB\n",
    "lance_data = []\n",
    "for i, listing in enumerate(listings):\n",
    "    if i < len(embeddings):\n",
    "        lance_data.append({\n",
    "            \"id\": i,\n",
    "            \"number_of_bedrooms\": listing['number_of_bedrooms'],\n",
    "            \"square_footage\": listing['square_footage'],\n",
    "            \"description\": listing['description'],\n",
    "            \"neighborhood_description\": listing['neighborhood_description'],\n",
    "            \"price\": convert_to_float(listing['price']),\n",
    "            \"vector\": embeddings[i]\n",
    "        })\n",
    "\n",
    "print(f\"Prepared {len(lance_data)} listings for LanceDB\")\n",
    "\n",
    "# Create table (drop if exists)\n",
    "try:\n",
    "    db.drop_table(\"listings\")\n",
    "except:\n",
    "    pass\n",
    "\n",
    "table = db.create_table(\"listings\", lance_data)\n",
    "print(\"Created LanceDB table with listings and embeddings\")"
   ]
  },
  {
   "cell_type": "code",
   "execution_count": 98,
   "id": "c2781a58",
   "metadata": {},
   "outputs": [],
   "source": [
    "def similarity_search(table, query_text: str, top_k: int = 5, budget_limit: float = None):\n",
    "    # Generate embedding for the query\n",
    "    print(f\"Searching for: '{query_text}'\")\n",
    "    \n",
    "    try:\n",
    "        query_response = client.embeddings.create(\n",
    "            input=[query_text],\n",
    "            model=\"text-embedding-3-small\"\n",
    "        )\n",
    "        query_embedding = query_response.data[0].embedding\n",
    "        \n",
    "        # Perform similarity search using LanceDB\n",
    "        results = table.search(query_embedding).where(f\"price < {budget_limit}\").limit(top_k).to_pandas()\n",
    "\n",
    "        # Format results\n",
    "        search_results = []\n",
    "        for _, row in results.iterrows():\n",
    "            search_results.append((\n",
    "                row['id'],\n",
    "                row['description'] + \" \" + row['neighborhood_description'],\n",
    "                row['price'],\n",
    "                row['_distance']\n",
    "            ))\n",
    "        \n",
    "        return search_results\n",
    "        \n",
    "    except Exception as e:\n",
    "        print(f\"Error during search: {e}\")\n",
    "        return []"
   ]
  },
  {
   "cell_type": "markdown",
   "id": "61203c38",
   "metadata": {},
   "source": [
    "Now we can finally search for the best listing using the target_descrition:"
   ]
  },
  {
   "cell_type": "code",
   "execution_count": 99,
   "id": "f7c3c71f",
   "metadata": {},
   "outputs": [
    {
     "name": "stdout",
     "output_type": "stream",
     "text": [
      "Searching for: 'Based on your preferences, the ideal house for you would be a spacious and cozy home located in a quiet and peaceful neighborhood. The house should have a large, well-equipped kitchen where you can indulge in your love for cooking. It should also have plenty of indoor living space for you and your kids to enjoy, with comfortable and inviting areas for relaxation and entertainment. Additionally, a backyard or outdoor space for some fresh air and relaxation would be a nice bonus, even though you prefer spending most of your time indoors. Overall, a tranquil and comfortable home that caters to your love for cooking and indoor activities would be perfect for you and your family.'\n",
      "\n",
      "Top 3 listings:\n",
      "\n",
      "1. Listing ID: 6\n",
      "   Price: 300000.0\n",
      "   Distance: 1.0699\n",
      "   Text: Charming and well-maintained apartment with a private garden, a spacious kitchen, and hardwood floors. Located in a family-friendly neighborhood offering many recreational parks, trendy cafes, and grocery stores.\n",
      "--------------------------------------------------------------------------------\n",
      "\n",
      "2. Listing ID: 9\n",
      "   Price: 350000.0\n",
      "   Distance: 1.1341\n",
      "   Text: Beautifully maintained traditional townhouse with many original features in a peaceful setting. Includes a large outdoor terrace and basement storage. Situated in a charming neighborhood with lush parks, great schools, local eateries, and close to the centre.\n",
      "--------------------------------------------------------------------------------\n",
      "\n",
      "3. Listing ID: 1\n",
      "   Price: 375000.0\n",
      "   Distance: 1.3440\n",
      "   Text: Charming townhouse in a historic building, with modern amenities and original architectural details. Comes with a lovely terrace and fireplace. Located in a tranquil neighborhood, full of local cafes and shops, and walking distance from the Douro River.\n",
      "--------------------------------------------------------------------------------\n"
     ]
    }
   ],
   "source": [
    "results = similarity_search(table, target_description, top_k=3, budget_limit=float(convert_to_float(personal_answers[-1])))\n",
    "\n",
    "print(f\"\\nTop 3 listings:\")\n",
    "for i, (listing_id, text, price, distance) in enumerate(results, 1):\n",
    "    print(f\"\\n{i}. Listing ID: {listing_id}\")\n",
    "    print(f\"   Price: {price}\")\n",
    "    print(f\"   Distance: {distance:.4f}\")\n",
    "    print(f\"   Text: {text}\")\n",
    "    print(\"-\" * 80)"
   ]
  },
  {
   "cell_type": "markdown",
   "id": "13786bc3",
   "metadata": {},
   "source": [
    "This is the prompt to personalize the listing to our user:"
   ]
  },
  {
   "cell_type": "code",
   "execution_count": 101,
   "id": "5ee0906c",
   "metadata": {},
   "outputs": [
    {
     "name": "stdout",
     "output_type": "stream",
     "text": [
      "\n",
      "    You are a real estate agent that needs to present a property listing. Based on the context provided, generate the best description of the ideal house for the user,\n",
      "    taking into account their personal preferences described in the questionnaire and listing below.\n",
      "\n",
      "QUESTIONNAIRE:\n",
      "Do you work in person or remotely? Remotely\n",
      "Do you have kids? Yes\n",
      "Do you prefer vibrant neighborhoods or calm places? Calm\n",
      "Do you like to cook in your free time? Yes, I love!\n",
      "Do you prefer to spend time indoors or outdoors? Indoors\n",
      "\n",
      "LISTING:\n",
      "{'price': '€300,000', 'number_of_bedrooms': 2, 'square_footage': 1600, 'description': 'Charming and well-maintained apartment with a private garden, a spacious kitchen, and hardwood floors.', 'neighborhood_description': 'Located in a family-friendly neighborhood offering many recreational parks, trendy cafes, and grocery stores.'}\n"
     ]
    }
   ],
   "source": [
    "prompt_final_presentation = PromptTemplate(\n",
    "    template=\"{question}\\nQUESTIONNAIRE:\\n{questionnaire}\\nLISTING:\\n{listing}\",\n",
    "    input_variables=[\"question\",\"questionnaire\",\"listing\"],\n",
    ")\n",
    "question_final_presentation = \"\"\"\n",
    "    You are a real estate agent that needs to present a property listing. Based on the context provided, generate the best description of the ideal house for the user,\n",
    "    taking into account their personal preferences described in the questionnaire and listing below.\n",
    "\"\"\"\n",
    "if results:\n",
    "    listing = listings[results[0][0]]\n",
    "else:\n",
    "    raise ValueError(\"No listings found\")\n",
    "query = prompt_final_presentation.format(question = question_final_presentation, questionnaire = questionnaire, listing = listing)\n",
    "print(query)"
   ]
  },
  {
   "cell_type": "markdown",
   "id": "49764571",
   "metadata": {},
   "source": [
    "And finally present the final recommendation for our family looking for a new home:"
   ]
  },
  {
   "cell_type": "code",
   "execution_count": 102,
   "id": "338d3ae4",
   "metadata": {},
   "outputs": [
    {
     "name": "stdout",
     "output_type": "stream",
     "text": [
      "**** Welcome to your new home!******\n",
      "\n",
      "Based on your preferences, I have found the perfect property for you! This charming and well-maintained apartment is priced at €300,000 and offers 2 bedrooms with a square footage of 1600. It features a private garden, a spacious kitchen (perfect for your love of cooking), and hardwood floors for a cozy feel indoors. \n",
      "\n",
      "Located in a family-friendly neighborhood, this apartment is surrounded by recreational parks, trendy cafes, and grocery stores, providing a calm and vibrant balance that suits your lifestyle. It's the ideal space for you to enjoy spending time indoors with your kids while still having access to outdoor amenities nearby. Don't miss out on this perfect home for you!\n"
     ]
    }
   ],
   "source": [
    "recommended_description = llm.invoke(query).content\n",
    "print(\"**** Welcome to your new home!******\\n\")\n",
    "print(recommended_description)"
   ]
  },
  {
   "cell_type": "markdown",
   "id": "d6cc8a59",
   "metadata": {},
   "source": [
    "To test our agent, we will adapt the awnsers to the second scenario (Single person looking for vibrant places):"
   ]
  },
  {
   "cell_type": "code",
   "execution_count": 103,
   "id": "30493f8c",
   "metadata": {},
   "outputs": [
    {
     "name": "stdout",
     "output_type": "stream",
     "text": [
      "Searching for: 'Based on your preferences, the ideal house for you would be a modern and vibrant urban apartment located in a bustling neighborhood with plenty of restaurants, cafes, and entertainment options. The apartment should have a spacious and well-equipped kitchen where you can indulge in your love for cooking. Additionally, the living space should be cozy and inviting, perfect for spending time indoors. Look for a property with easy access to amenities and a lively atmosphere to suit your remote work lifestyle and vibrant personality. Happy house hunting!'\n",
      "**** Welcome to your new home!******\n",
      "\n",
      "Based on your preferences, I have found the perfect property for you! This cozy apartment in a modern building is ideal for someone who works remotely and loves to cook. With its fully fitted kitchen and open-plan living area, you can enjoy cooking while taking in stunning city views from the large windows and balcony. \n",
      "\n",
      "Located in Porto's bustling downtown, this vibrant neighborhood offers great connections to public transport, restaurants, and entertainment venues. This 1-bedroom apartment with 800 square footage is perfect for someone who prefers spending time indoors but still wants to be in the heart of the action. Priced at €275,000, this property is a great fit for your lifestyle.\n"
     ]
    }
   ],
   "source": [
    "### Update personal_answers to test different budgets and preferences (now less money, no kids, vibrant neighborhood)\n",
    "personal_answers = ['Remotely', 'No', 'Vibrant', 'Yes, I love!', 'Indoors', '300000']\n",
    "\n",
    "query = prompt_target_description.format(question = question_target_description, questionnaire = fill_questionaire(personal_questions, personal_answers))\n",
    "target_description = llm.invoke(query).content\n",
    "\n",
    "results = similarity_search(table, target_description, top_k=3, budget_limit=float(convert_to_float(personal_answers[-1])))\n",
    "\n",
    "if results:\n",
    "    listing = listings[results[0][0]]\n",
    "else:\n",
    "    raise ValueError(\"No listings found\")\n",
    "query = prompt_final_presentation.format(question = question_final_presentation, questionnaire = fill_questionaire(personal_questions, personal_answers), listing = listing)\n",
    "\n",
    "recommended_description = llm.invoke(query).content\n",
    "print(\"**** Welcome to your new home!******\\n\")\n",
    "print(recommended_description)"
   ]
  }
 ],
 "metadata": {
  "kernelspec": {
   "display_name": "venv",
   "language": "python",
   "name": "python3"
  },
  "language_info": {
   "codemirror_mode": {
    "name": "ipython",
    "version": 3
   },
   "file_extension": ".py",
   "mimetype": "text/x-python",
   "name": "python",
   "nbconvert_exporter": "python",
   "pygments_lexer": "ipython3",
   "version": "3.12.7"
  }
 },
 "nbformat": 4,
 "nbformat_minor": 5
}
